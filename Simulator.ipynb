{
 "cells": [
  {
   "cell_type": "code",
   "execution_count": null,
   "metadata": {},
   "outputs": [],
   "source": [
    "class Trace\n",
    "    def __init__(self):\n",
    "        self.jobs_list = []\n",
    "    def read_trace(self, data_file):\n",
    "        '''Reads in the trace and outputs a list of jobs'''\n",
    "        pass \n",
    "        return self.jobs_list\n",
    "    def __len__(self):\n",
    "        return len(self.jobs_list)"
   ]
  },
  {
   "cell_type": "code",
   "execution_count": null,
   "metadata": {},
   "outputs": [],
   "source": [
    "class GPU\n",
    "    def __init__:\n",
    "        self.id = None\n",
    "        self.state = 'available'"
   ]
  },
  {
   "cell_type": "code",
   "execution_count": null,
   "metadata": {},
   "outputs": [],
   "source": [
    "class Cluster:\n",
    "    def __init__(self):\n",
    "        self.n_gpu = None\n",
    "        self.gpus = []\n",
    "        self.gpus_available = []\n",
    "    def get_gpus(self):\n",
    "        '''Returns a list of available gpus'''\n",
    "        for g in range(len(self.gpus)):\n",
    "            if g.state == 'available':\n",
    "                self.gpus_available.append(g)\n",
    "        return gpus_available\n",
    "    def __len__(self):\n",
    "        return len(self.gpus_available)"
   ]
  },
  {
   "cell_type": "code",
   "execution_count": null,
   "metadata": {},
   "outputs": [],
   "source": [
    "class Job:\n",
    "    def __init__(self):\n",
    "        self.arrival_time = None\n",
    "        self.id = None\n",
    "        self.arrival_time = None\n",
    "        self.start_time =None\n",
    "        self.end_time = None\n",
    "        self.duration = None\n",
    "    def get_predicted_duration:\n",
    "        '''Gets the job duration from the trace file'''\n",
    "        pass"
   ]
  },
  {
   "cell_type": "code",
   "execution_count": 12,
   "metadata": {},
   "outputs": [],
   "source": [
    "from datetime import datetime\n",
    "import csv\n",
    "\n",
    "def write_to_csv(text):\n",
    "    '''Opens and writes output to a csv file'''\n",
    "    with open('path/to/csv_file', 'w') as f:\n",
    "        writer = csv.writer(f)\n",
    "        writer.writerow(text)\n",
    "\n",
    "def get_time():\n",
    "    '''Gets the current time'''\n",
    "    now = datetime.now()\n",
    "    current_time = now.strftime(\"%H:%M:%S\")\n",
    "    return current_time\n",
    "    \n",
    "def add_to_queue(trace, job, queue):\n",
    "    '''Adds a job to the queue if there are no GPU's free'''\n",
    "    if len(cluster) == 0:\n",
    "        queue.append(job)\n",
    "\n",
    "def scheduler(job, trace, queue, cluster):\n",
    "    '''Assigns a job to an available GPU'''\n",
    "    jobs_to_schedule = []\n",
    "    while len(trace) > 0 or len(queue) > 0:\n",
    "        jobs_to_schedule = trace.jobs_list + queue\n",
    "        jobs_to_schedule.sort(key=lambda x: x.duration)\n",
    "        if len(cluster) > 0:\n",
    "            break\n",
    "    gpu = cluster.gpus_available[0]\n",
    "    gpu.state = 'allocated'\n",
    "    c.gpus_available.remove(gpu)\n",
    "    job.start_time = get_time()\n",
    "    write_to_csv(job.start_time)\n",
    "    job.end_time = job.arrival_time+job.start_time+job_duration\n",
    "    counter += 1"
   ]
  },
  {
   "cell_type": "code",
   "execution_count": null,
   "metadata": {},
   "outputs": [],
   "source": [
    "if __name__ == \"__main__\":\n",
    "    queue = []\n",
    "    global counter = 0\n",
    "    data_file = ''\n",
    "    t = Trace()\n",
    "    t.read_trace(data_file)\n",
    "    n_gpus = 6500 # change to exact number\n",
    "    gpus = []\n",
    "    \n",
    "    for n in range(len(n_gpus)):\n",
    "        g = GPU()\n",
    "        gpus.append(g)\n",
    "    c = Cluster()\n",
    "    c.n_gpus = n_gpus\n",
    "    c.gpus = gpus\n",
    "\n",
    "    for u in range(len(t)):\n",
    "        j = Job()\n",
    "        scheduler(j, t, queue, c)"
   ]
  }
 ],
 "metadata": {
  "kernelspec": {
   "display_name": "Python 3",
   "language": "python",
   "name": "python3"
  },
  "language_info": {
   "codemirror_mode": {
    "name": "ipython",
    "version": 3
   },
   "file_extension": ".py",
   "mimetype": "text/x-python",
   "name": "python",
   "nbconvert_exporter": "python",
   "pygments_lexer": "ipython3",
   "version": "3.8.3"
  }
 },
 "nbformat": 4,
 "nbformat_minor": 4
}
